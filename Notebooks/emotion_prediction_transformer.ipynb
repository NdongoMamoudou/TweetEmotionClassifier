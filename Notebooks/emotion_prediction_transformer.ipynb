{
 "cells": [
  {
   "cell_type": "code",
   "execution_count": null,
   "metadata": {
    "colab": {
     "base_uri": "https://localhost:8080/"
    },
    "id": "Q8E7fzmnITUG",
    "outputId": "cb1e8769-abf8-41bc-d2b1-db4ebffdfdc0"
   },
   "outputs": [],
   "source": [
    "!pip install datasets"
   ]
  },
  {
   "cell_type": "code",
   "execution_count": null,
   "metadata": {
    "id": "_-w96tJcIfqU"
   },
   "outputs": [],
   "source": [
    "#  Imports\n",
    "import tensorflow as tf\n",
    "from tensorflow.keras.layers import Dense, LayerNormalization, Dropout, Embedding, MultiHeadAttention\n",
    "from tensorflow.keras.preprocessing.text import Tokenizer\n",
    "from tensorflow.keras.preprocessing.sequence import pad_sequences\n",
    "import numpy as np\n",
    "from datasets import load_dataset\n"
   ]
  },
  {
   "cell_type": "code",
   "execution_count": null,
   "metadata": {
    "id": "uGSibDCoI_A4"
   },
   "outputs": [],
   "source": [
    "# Paramètres de base du modèle\n",
    "\n",
    "embed_dim = 512 # (Dimension de l'embedding)\n",
    "num_heads = 8 # (nombre de mot important dans un phrase)\n",
    "ff_dim = 2048 # (dimension du PMC)\n",
    "maxlen = 200 # (mot total dans une phrase)\n",
    "vocab_size = 10000 # (taile du vocabulaire)\n",
    "batch_size = 32 # Batch size"
   ]
  },
  {
   "cell_type": "code",
   "execution_count": null,
   "metadata": {
    "colab": {
     "base_uri": "https://localhost:8080/",
     "height": 421,
     "referenced_widgets": [
      "fbdebdf726f7429ebac3312628854eee",
      "ce379832e0b54be49cce38ebdec8af58",
      "65b889df79af44eb9997deee143160c9",
      "b54722e852f34041940369e6e913a400",
      "3b4d46697f394a9b8b3a882266d2ad09",
      "4490218c7eb448a3ba999ace8cc8d09f",
      "21e2b09e33bc4c22b601f5959646ef5c",
      "44ab05d51ea346ff80c25bf40768cedb",
      "edaf7024ef584744ab4c3285ae5b9e1f",
      "65ef3c43127140f0a1ec58696a04aa10",
      "38a67dabeaa64b29afbb062d26e6d4ec",
      "4d182a20568d40faa5fdd34edd871866",
      "f2c656203c784dc4b54fc1fbe23c955a",
      "b0a15b7ae6634358a58a9b58c8eb2101",
      "5a41c2f1d71a4f0ca18170c91d861780",
      "c8c20366848a48bba494727e623b0100",
      "e9ee4d1fc84f43c9a93a39e777755947",
      "c1ceb373997d4b2596e2a72385ac68d4",
      "fb85d01afc1d4cea86c762823413fdb3",
      "7aa78f99ea8e487cadc2d11ad08a2875",
      "89e500bcc597451baffdcd3c9c3e2392",
      "91860db747704008b18a721c52110581",
      "35ced8d6d2b548619da0013723056c2b",
      "fed6d3ae6882437ebaf0cd4abf046db5",
      "03992093fb7c40e0bedc413ad5a07481",
      "f0cf8d2271d24e33a8aa0d238711a4b5",
      "197abbc16212499c9c11f569fc4c652e",
      "39882e7feb7147b6b55cb64c9b93f8ee",
      "4afbaf4a104146a18ff0721d8bcd3258",
      "0d25cec711b644b596fb623a738ea98f",
      "a953e3b95297480e87587fd21315673e",
      "e2fc59f3f4ba4df1bf6d7ee7839e43ac",
      "bbfe4431df6e4f5087bdba4d44fbf0be",
      "819974eaf3c6442fa2f314f79d45872a",
      "d5644dd42c574e67824b413a41209fc2",
      "71917148ef1349cc954cf7e320b86de6",
      "03783a9221054e299430640221ce9354",
      "65057ea78286422d87fa79909562c476",
      "ad3d3fe313ac4abb854c30ac1089bf51",
      "11a3b69e77f44a0fa366901ee7344e31",
      "868c736d3e814296a35dbdd9445158d4",
      "e9b6a42417e94f1b8d1448f825cded3a",
      "50e95eded0104298abeb31d9970b2364",
      "5304695c9579420a8f91e379f33975ec",
      "38ff37d955254c1db685c40967762798",
      "4224a944d51549bdba379794447f709b",
      "e1cef8ec6e5f423fa55b3264e6c5796a",
      "552b40212b104d82b08c580af48da98d",
      "7d601b289c25484ea32b8b46d3d74daa",
      "1acb5a031434471e9e88f1720396d5bf",
      "26b706ed281d48c5a4abad6d22105024",
      "de26046d877a424c8df9fdb60d24c37e",
      "637f56ba14364d6aa0dc53988df2def5",
      "ebcb002ee25e4c019ffa85380c9e3c08",
      "f3657400f3b14dd7b6faaba64be5e667",
      "808d2d55ecf343e9a1d900688436aeb0",
      "f2009f23949247cd8f7c81cc2c39584d",
      "154e96e31d214c569b0f93c3dce94b8c",
      "ef533c19b52d4a7bbb7119816e3e7ba3",
      "8abdd926e7cc4c04944544832acdf0c0",
      "9358ab0afeaa470e80920dfe39383782",
      "058e75e10c744292ac639c917eb02c13",
      "e09a37fa819646859bf956b4ad1797a0",
      "596c9772bed7422f950c98f3c8c56c9c",
      "b37065d315f04003980307a1c704b3c1",
      "9c3f61b012804378baf73ec6e3d5568c",
      "8252cb3a986145bb811ace94bdc52e9b",
      "9b54e8019d68417e818c689e730ebcda",
      "7aeb37286acc422f972e00d17f881973",
      "1f7d24196bc6449a8f9782150f6e7783",
      "3484e2802fb147d0a3f55490a101a40a",
      "0d864cd1af8b4561b8bbde9019d504e9",
      "ec782d4369d24ab18529d67cc71e5db6",
      "092172cbbc154bdb8c324dde190296ff",
      "e8d2570e445244068a2aaaab5864b760",
      "b836709bea704f428d69f3fe5dcf958f",
      "dc01742dc08f49898111df71a29b2475"
     ]
    },
    "id": "U8lgjkrVI_M-",
    "outputId": "ecca53b7-b69e-4f17-bfbf-55085dfb8761"
   },
   "outputs": [],
   "source": [
    "# Chargement du dataset \"emotion\"\n",
    "dataset = load_dataset(\"emotion\")\n",
    "\n",
    "train_texts = dataset['train']['text']\n",
    "train_labels = dataset['train']['label']\n",
    "test_texts = dataset['test']['text']\n",
    "test_labels = dataset['test']['label']\n"
   ]
  },
  {
   "cell_type": "code",
   "execution_count": null,
   "metadata": {
    "id": "DHLT4uXAP11Y"
   },
   "outputs": [],
   "source": [
    "tokenizer = Tokenizer(num_words=vocab_size, oov_token=\"<OOV>\")\n",
    "tokenizer.fit_on_texts(train_texts)\n",
    "\n",
    "x_train = tokenizer.texts_to_sequences(train_texts)\n",
    "x_test = tokenizer.texts_to_sequences(test_texts)\n",
    "\n",
    "x_train = pad_sequences(x_train, maxlen=maxlen, padding='post')\n",
    "x_test = pad_sequences(x_test, maxlen=maxlen, padding='post')\n",
    "\n",
    "y_train = np.array(train_labels)\n",
    "y_test = np.array(test_labels)\n"
   ]
  },
  {
   "cell_type": "code",
   "execution_count": null,
   "metadata": {
    "id": "tco2UbuGP13f"
   },
   "outputs": [],
   "source": [
    "# TransformerBlock (bloc d'encodage)\n",
    "class TransformerBlock(tf.keras.layers.Layer):\n",
    "    def __init__(self, embed_dim, num_heads, ff_dim, rate=0.1):\n",
    "        super(TransformerBlock, self).__init__()\n",
    "        self.att = MultiHeadAttention(num_heads=num_heads, key_dim=embed_dim)\n",
    "        self.ffn = tf.keras.Sequential([\n",
    "            Dense(ff_dim, activation=\"relu\"),\n",
    "            Dense(embed_dim),\n",
    "        ])\n",
    "        self.layernorm1 = LayerNormalization(epsilon=1e-6)\n",
    "        self.layernorm2 = LayerNormalization(epsilon=1e-6)\n",
    "        self.dropout1 = Dropout(rate)\n",
    "        self.dropout2 = Dropout(rate)\n",
    "\n",
    "    def call(self, inputs, training=False):\n",
    "        attn_output = self.att(inputs, inputs)\n",
    "        attn_output = self.dropout1(attn_output, training=training)\n",
    "        out1 = self.layernorm1(inputs + attn_output)\n",
    "        ffn_output = self.ffn(out1)\n",
    "        ffn_output = self.dropout2(ffn_output, training=training)\n",
    "        return self.layernorm2(out1 + ffn_output)\n"
   ]
  },
  {
   "cell_type": "code",
   "execution_count": null,
   "metadata": {
    "id": "VvkWE8EBP8T5"
   },
   "outputs": [],
   "source": [
    "# Modèle Transformer complet\n",
    "class Transformer(tf.keras.Model):\n",
    "    def __init__(self, vocab_size, embed_dim, num_heads, ff_dim, rate=0.1):\n",
    "        super(Transformer, self).__init__()\n",
    "        self.embedding = Embedding(input_dim=vocab_size, output_dim=embed_dim)\n",
    "        self.pos_emb = Embedding(input_dim=maxlen, output_dim=embed_dim)\n",
    "        self.trans_block = TransformerBlock(embed_dim, num_heads, ff_dim, rate)\n",
    "        self.final_layer = Dense(6, activation='softmax')\n",
    "\n",
    "    def call(self, inputs, training=False):\n",
    "        x = self.embedding(inputs)\n",
    "        positions = tf.range(start=0, limit=maxlen, delta=1)\n",
    "        positions = self.pos_emb(positions)\n",
    "        x = x + positions\n",
    "        x = self.trans_block(x, training=training)\n",
    "        x = x[:, -1, :]\n",
    "        return self.final_layer(x)\n"
   ]
  },
  {
   "cell_type": "code",
   "execution_count": null,
   "metadata": {
    "colab": {
     "base_uri": "https://localhost:8080/"
    },
    "id": "iUVtIMmFP8Vr",
    "outputId": "68f3d58e-5b6d-4736-8145-3021595573b2"
   },
   "outputs": [],
   "source": [
    " # Compilation et entraînement\n",
    "model = Transformer(vocab_size, embed_dim, num_heads, ff_dim)\n",
    "model.compile(optimizer=\"adam\", loss=\"sparse_categorical_crossentropy\", metrics=[\"accuracy\"])\n",
    "\n",
    "model.fit(x_train, y_train, batch_size=batch_size, epochs=3, validation_data=(x_test, y_test))\n"
   ]
  },
  {
   "cell_type": "code",
   "execution_count": null,
   "metadata": {
    "colab": {
     "base_uri": "https://localhost:8080/"
    },
    "id": "-CdAgzCxot0v",
    "outputId": "c8f43a59-577f-41bc-9717-cc9244e31d11"
   },
   "outputs": [],
   "source": [
    "model.save(\"mon_modele_transformer.h5\")\n"
   ]
  },
  {
   "cell_type": "code",
   "execution_count": null,
   "metadata": {},
   "outputs": [],
   "source": [
    "# from tensorflow.keras.models import load_model\n",
    "\n",
    "# # Charger le modèle .h5\n",
    "# model = load_model(\"D:/Projet_Deep_Learning/emotion_transformer_project/Models/mon_modele_transformer.h5\")"
   ]
  },
  {
   "cell_type": "code",
   "execution_count": null,
   "metadata": {
    "id": "Q9V1eGr9QM_H"
   },
   "outputs": [],
   "source": [
    "# Fonction pour prédire une émotion\n",
    "def predict_emotion(text):\n",
    "    sequence = tokenizer.texts_to_sequences([text])\n",
    "    padded = pad_sequences(sequence, maxlen=maxlen, padding='post')\n",
    "    prediction = model.predict(padded)\n",
    "    predicted_label = np.argmax(prediction)\n",
    "    label_names = dataset['train'].features['label'].names\n",
    "    print(\"Texte :\", text)\n",
    "    print(\"Émotion prédite :\", label_names[predicted_label])\n"
   ]
  },
  {
   "cell_type": "code",
   "execution_count": null,
   "metadata": {
    "colab": {
     "base_uri": "https://localhost:8080/"
    },
    "id": "S-6xPXEdQNA-",
    "outputId": "748bf351-e833-4e12-a420-44882ba00dc1"
   },
   "outputs": [],
   "source": [
    "# Test de prédiction\n",
    "predict_emotion(\"I feel so happy and excited today!\")\n",
    "predict_emotion(\"I'm scared and I don't know what to do.\")\n"
   ]
  },
  {
   "cell_type": "code",
   "execution_count": null,
   "metadata": {
    "colab": {
     "base_uri": "https://localhost:8080/"
    },
    "id": "pCCZawl0p2gh",
    "outputId": "5afbcf8b-747c-40c6-8e2c-94119eed79fd"
   },
   "outputs": [],
   "source": [
    "predict_emotion(\"What a beautiful day, I can't stop smiling!\")\n",
    "predict_emotion(\"I just got promoted, I'm so proud of myself.\")\n"
   ]
  },
  {
   "cell_type": "code",
   "execution_count": null,
   "metadata": {
    "colab": {
     "base_uri": "https://localhost:8080/"
    },
    "id": "NyOGvvu2p-ii",
    "outputId": "2c0ddef9-e146-4b55-e300-9d7b8bff935f"
   },
   "outputs": [],
   "source": [
    "predict_emotion(\"I feel like crying, everything is falling apart.\")\n",
    "predict_emotion(\"Nothing brings me joy anymore, I feel empty.\")\n"
   ]
  },
  {
   "cell_type": "code",
   "execution_count": null,
   "metadata": {
    "colab": {
     "base_uri": "https://localhost:8080/"
    },
    "id": "zWiv-nV8nEch",
    "outputId": "990bad11-03dc-4399-d24d-8911c518db86"
   },
   "outputs": [],
   "source": [
    "predict_emotion(\"i hate those fuckers\")"
   ]
  },
  {
   "cell_type": "code",
   "execution_count": null,
   "metadata": {
    "colab": {
     "base_uri": "https://localhost:8080/"
    },
    "id": "QyY0EzSEqRjY",
    "outputId": "a0aeb28a-6a63-4067-c6cf-94238ab13213"
   },
   "outputs": [],
   "source": [
    "import collections\n",
    "print(collections.Counter(y_train))"
   ]
  }
 ],
 "metadata": {
  "colab": {
   "provenance": []
  },
  "kernelspec": {
   "display_name": "Python 3",
   "name": "python3"
  },
  "language_info": {
   "name": "python"
  }
 },
 "nbformat": 4,
 "nbformat_minor": 0
}
